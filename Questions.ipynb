{
 "cells": [
  {
   "cell_type": "code",
   "execution_count": null,
   "id": "6209f7c9-94bc-44c9-960b-76a2b423e5f2",
   "metadata": {},
   "outputs": [],
   "source": [
    "##1 Employee #,last_name,first_name,sex & salary\n",
    "select emp_no,last_name,first_name,sex\n",
    "from employees\n",
    "\n",
    "select salary\n",
    "from salaries\n",
    "\n",
    "#join two tables\n",
    "SELECT \n",
    "    e.emp_no,\n",
    "    e.last_name,\n",
    "    e.first_name,\n",
    "    e.sex,\n",
    "    s.salary\n",
    "FROM employees e\n",
    "JOIN salaries s ON e.emp_no = s.emp_no;"
   ]
  },
  {
   "cell_type": "code",
   "execution_count": null,
   "id": "6d92229f-9285-4c2c-b831-79423c2399e3",
   "metadata": {},
   "outputs": [],
   "source": [
    "##2 select first_name,last_name,hire_date\n",
    "SELECT first_name, last_name, hire_date\n",
    "FROM employees\n",
    "WHERE hire_date LIKE '%1986';\n"
   ]
  },
  {
   "cell_type": "code",
   "execution_count": null,
   "id": "4f883cb7-c3fa-4d6b-8aa0-39c733f86a09",
   "metadata": {},
   "outputs": [],
   "source": [
    "##3 Manager of each department with dept_no, dept_name,emp_no,\n",
    "## first_name,last_name\n",
    "##prework\n",
    "select dept_no,emp_no\n",
    "from dept_manager\n",
    "\n",
    "select dept_no,dept_name\n",
    "from departments\n",
    "\n",
    "select emp_no,first_name,last_name\n",
    "from employees\n",
    "##merger\n",
    "SELECT dm.dept_no, dm.emp_no, d.dept_name, e.emp_no, e.first_name, e.last_name\n",
    "FROM dept_manager dm\n",
    "JOIN departments d ON dm.dept_no = d.dept_no\n",
    "JOIN employees e ON dm.emp_no = e.emp_no;\n"
   ]
  },
  {
   "cell_type": "code",
   "execution_count": null,
   "id": "eea291b6-5552-4a0b-8cde-dc2b61225c18",
   "metadata": {},
   "outputs": [],
   "source": [
    "##4 department # for employee with employee #, last name, first name, department name\n",
    "##prework\n",
    "select emp_no,first_name,last_name\n",
    "from employees\n",
    "\n",
    "select emp_no, dept_no\n",
    "from dept_emp\n",
    "\t\n",
    "select dept_no,dept_name\n",
    "from departments\n",
    "##merger\n",
    "SELECT e.emp_no, e.first_name, e.last_name, de.dept_no, d.dept_name\n",
    "FROM employees e\n",
    "JOIN dept_emp de ON e.emp_no = de.emp_no\n",
    "JOIN departments d ON de.dept_no = d.dept_no;\n"
   ]
  },
  {
   "cell_type": "code",
   "execution_count": null,
   "id": "ab4723c8-18d6-4cb5-9793-3242f52442bb",
   "metadata": {},
   "outputs": [],
   "source": [
    "##5  first_name, last_name, and sex. For each employee whose first_name == 'Hercules'\n",
    "##   And whose last_name starts with 'B'\n",
    "select first_name,last_name,sex\n",
    "from employees\n",
    "where first_name = 'Hercules'\n",
    "AND last_name LIKE 'B%';\n"
   ]
  },
  {
   "cell_type": "code",
   "execution_count": null,
   "id": "b6baddc6-c01a-45ac-9366-c0df6fca0038",
   "metadata": {},
   "outputs": [],
   "source": [
    "##6 each employee in the sales department: emp_no,last_name,first_name\n",
    "##prework\n",
    "select emp_no,last_name,first_name\n",
    "from employees\n",
    "\n",
    "select emp_no,dept_no\n",
    "from dept_emp\n",
    "\n",
    "select dept_no,dept_name\n",
    "from departments\n",
    "where dept_name = 'Sales'\n",
    "\n",
    "##merger\n",
    "SELECT e.emp_no, e.last_name, e.first_name\n",
    "FROM employees e\n",
    "JOIN dept_emp de ON e.emp_no = de.emp_no\n",
    "JOIN departments d ON de.dept_no = d.dept_no\n",
    "WHERE d.dept_name = 'Sales';"
   ]
  },
  {
   "cell_type": "code",
   "execution_count": null,
   "id": "7481be08-2828-4d0f-9259-de67d3787334",
   "metadata": {},
   "outputs": [],
   "source": [
    "##7 employee in sales & development department including empo_no, last_name,first_name\n",
    "##  & dept_name\n",
    "##prework\n",
    "select emp_no,last_name,first_name\n",
    "from employees\n",
    "\n",
    "select emp_no,dept_no\n",
    "from dept_emp\n",
    "\n",
    "select dept_no,dept_name\n",
    "from departments\n",
    "where dept_name = 'Sales'\n",
    "or dept_name = 'Development'\n",
    "\n",
    "##merger\n",
    "SELECT e.emp_no, e.last_name, e.first_name,d.dept_name\n",
    "FROM employees e\n",
    "JOIN dept_emp de ON e.emp_no = de.emp_no\n",
    "JOIN departments d ON de.dept_no = d.dept_no\n",
    "WHERE d.dept_name IN ('Sales', 'Development');"
   ]
  },
  {
   "cell_type": "code",
   "execution_count": null,
   "id": "2206fc2c-3013-435d-9471-3ea288a17b95",
   "metadata": {},
   "outputs": [],
   "source": [
    "##8 FRENQUENCEY COUNT IN DECENDING ORDER OF ALL THE EMPLOYEE BY LAST NAME \n",
    "SELECT last_name, COUNT(*) AS frequency_counts\n",
    "FROM employees\n",
    "GROUP BY last_name\n",
    "ORDER BY last_name DESC;\n",
    "##CLEAN UP FOR NAME dAstous to fix order\n",
    "UPDATE employees\n",
    "SET last_name = CONCAT(UPPER(SUBSTRING(last_name, 1, 1)), LOWER(SUBSTRING(last_name, 2)))\n",
    "WHERE last_name = 'dAstous';"
   ]
  }
 ],
 "metadata": {
  "kernelspec": {
   "display_name": "Python 3 (ipykernel)",
   "language": "python",
   "name": "python3"
  },
  "language_info": {
   "codemirror_mode": {
    "name": "ipython",
    "version": 3
   },
   "file_extension": ".py",
   "mimetype": "text/x-python",
   "name": "python",
   "nbconvert_exporter": "python",
   "pygments_lexer": "ipython3",
   "version": "3.11.7"
  }
 },
 "nbformat": 4,
 "nbformat_minor": 5
}
